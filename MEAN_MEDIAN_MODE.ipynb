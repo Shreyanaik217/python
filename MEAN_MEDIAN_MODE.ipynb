{
 "cells": [
  {
   "cell_type": "code",
   "execution_count": 1,
   "id": "5b2b3246",
   "metadata": {},
   "outputs": [
    {
     "data": {
      "text/plain": [
       "89.76923076923077"
      ]
     },
     "execution_count": 1,
     "metadata": {},
     "output_type": "execute_result"
    }
   ],
   "source": [
    "def my_mean(speed):\n",
    "    return sum(speed)/len(speed)\n",
    "my_mean([99,86,87,88,111,86,103,87,94,78,77,85,86])"
   ]
  },
  {
   "cell_type": "code",
   "execution_count": 3,
   "id": "7a57e5b4",
   "metadata": {},
   "outputs": [
    {
     "data": {
      "text/plain": [
       "87"
      ]
     },
     "execution_count": 3,
     "metadata": {},
     "output_type": "execute_result"
    }
   ],
   "source": [
    "def my_median(speed):\n",
    "    n=len(speed)\n",
    "    index=n//2\n",
    "    if n%2:\n",
    "        return sorted(speed)[index]\n",
    "    return sum(sorted(speed)[index-1:index+1])/2\n",
    "my_median([99,86,87,88,111,86,103,87,96,78,77,85,86])"
   ]
  },
  {
   "cell_type": "code",
   "execution_count": 4,
   "id": "4a71751b",
   "metadata": {},
   "outputs": [
    {
     "data": {
      "text/plain": [
       "[88, 55, 4, 8, 63, 75, 95, 24, 31, 25, 45]"
      ]
     },
     "execution_count": 4,
     "metadata": {},
     "output_type": "execute_result"
    }
   ],
   "source": [
    "from collections import Counter\n",
    "def my_mode(speed):\n",
    "    c=Counter(speed)\n",
    "    return[k for k,v in c.items() if v == c.most_common(1)[0][1]]\n",
    "my_mode([88,55,4,8,63,75,95,24,31,25,45])"
   ]
  },
  {
   "cell_type": "code",
   "execution_count": null,
   "id": "a3801319",
   "metadata": {},
   "outputs": [],
   "source": []
  }
 ],
 "metadata": {
  "kernelspec": {
   "display_name": "Python 3 (ipykernel)",
   "language": "python",
   "name": "python3"
  },
  "language_info": {
   "codemirror_mode": {
    "name": "ipython",
    "version": 3
   },
   "file_extension": ".py",
   "mimetype": "text/x-python",
   "name": "python",
   "nbconvert_exporter": "python",
   "pygments_lexer": "ipython3",
   "version": "3.9.13"
  }
 },
 "nbformat": 4,
 "nbformat_minor": 5
}
