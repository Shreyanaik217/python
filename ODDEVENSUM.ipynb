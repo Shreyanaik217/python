{
 "cells": [
  {
   "cell_type": "code",
   "execution_count": 1,
   "id": "6fa44900",
   "metadata": {},
   "outputs": [
    {
     "name": "stdout",
     "output_type": "stream",
     "text": [
      "enter the size of the list:8\n",
      "enetr the element:4\n",
      "enetr the element:5\n",
      "enetr the element:7\n",
      "enetr the element:6\n",
      "enetr the element:8\n",
      "enetr the element:9\n",
      "enetr the element:1\n",
      "enetr the element:3\n",
      "the elements are: [4, 5, 7, 6, 8, 9, 1, 3]\n",
      "the sum of even no is: 18\n",
      "the sum of odd no is: 25\n"
     ]
    }
   ],
   "source": [
    "list1=[]\n",
    "osum=0\n",
    "esum=0\n",
    "n=int(input(\"enter the size of the list:\"))\n",
    "for i in range(1,n+1):\n",
    "    ele=int(input(\"enetr the element:\"))\n",
    "    list1.append(ele)\n",
    "print(\"the elements are:\",list1)\n",
    "for i in list1:\n",
    "    if(i%2==0):\n",
    "        esum=esum+i\n",
    "    else:\n",
    "        osum=osum+i\n",
    "print(\"the sum of even no is:\",esum)\n",
    "print(\"the sum of odd no is:\",osum)"
   ]
  },
  {
   "cell_type": "code",
   "execution_count": null,
   "id": "c6ce9227",
   "metadata": {},
   "outputs": [],
   "source": []
  }
 ],
 "metadata": {
  "kernelspec": {
   "display_name": "Python 3 (ipykernel)",
   "language": "python",
   "name": "python3"
  },
  "language_info": {
   "codemirror_mode": {
    "name": "ipython",
    "version": 3
   },
   "file_extension": ".py",
   "mimetype": "text/x-python",
   "name": "python",
   "nbconvert_exporter": "python",
   "pygments_lexer": "ipython3",
   "version": "3.9.13"
  }
 },
 "nbformat": 4,
 "nbformat_minor": 5
}
