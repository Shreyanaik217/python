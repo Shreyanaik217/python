{
 "cells": [
  {
   "cell_type": "code",
   "execution_count": 1,
   "id": "eb84b125",
   "metadata": {},
   "outputs": [
    {
     "name": "stdout",
     "output_type": "stream",
     "text": [
      "enter the n1 value:25\n",
      "enter the n2 value:20\n",
      "GCD of the number is 5\n"
     ]
    }
   ],
   "source": [
    "n1=int(input('enter the n1 value:'))\n",
    "n2=int(input('enter the n2 value:'))\n",
    "p=n1\n",
    "q=n2\n",
    "while(n1!=n2):\n",
    "    if (n1>n2):\n",
    "        n1=n1-n2\n",
    "    else:\n",
    "        n2=n2-n1\n",
    "print(\"GCD of the number is\",n1)"
   ]
  },
  {
   "cell_type": "code",
   "execution_count": null,
   "id": "e897c346",
   "metadata": {},
   "outputs": [],
   "source": []
  }
 ],
 "metadata": {
  "kernelspec": {
   "display_name": "Python 3 (ipykernel)",
   "language": "python",
   "name": "python3"
  },
  "language_info": {
   "codemirror_mode": {
    "name": "ipython",
    "version": 3
   },
   "file_extension": ".py",
   "mimetype": "text/x-python",
   "name": "python",
   "nbconvert_exporter": "python",
   "pygments_lexer": "ipython3",
   "version": "3.9.13"
  }
 },
 "nbformat": 4,
 "nbformat_minor": 5
}
