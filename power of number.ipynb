{
 "cells": [
  {
   "cell_type": "code",
   "execution_count": 1,
   "id": "83263425",
   "metadata": {},
   "outputs": [
    {
     "name": "stdout",
     "output_type": "stream",
     "text": [
      "enter the base value:4\n",
      "enter the exponent value:5\n",
      "the power of the given value is: 1024\n"
     ]
    }
   ],
   "source": [
    "a=int(input('enter the base value:'))\n",
    "b=int(input('enter the exponent value:'))\n",
    "print(\"the power of the given value is:\",a**b)"
   ]
  },
  {
   "cell_type": "code",
   "execution_count": 2,
   "id": "2832b459",
   "metadata": {},
   "outputs": [
    {
     "name": "stdout",
     "output_type": "stream",
     "text": [
      "enter the base value:4\n",
      "enter the exponent value:5\n",
      "the power of the number is : 1024\n"
     ]
    }
   ],
   "source": [
    "a=int(input('enter the base value:'))\n",
    "b=int(input('enter the exponent value:'))\n",
    "C=a**b\n",
    "print(\"the power of the number is :\",C)"
   ]
  },
  {
   "cell_type": "code",
   "execution_count": 3,
   "id": "84360634",
   "metadata": {},
   "outputs": [
    {
     "name": "stdout",
     "output_type": "stream",
     "text": [
      "enter the base value:4\n",
      "enter the exponent value:5\n",
      "the power of the number is : 1024\n"
     ]
    }
   ],
   "source": [
    "a=int(input('enter the base value:'))\n",
    "b=int(input('enter the exponent value:'))\n",
    "print(\"the power of the number is :\",pow(a,b))"
   ]
  },
  {
   "cell_type": "code",
   "execution_count": null,
   "id": "a5622ec3",
   "metadata": {},
   "outputs": [],
   "source": []
  }
 ],
 "metadata": {
  "kernelspec": {
   "display_name": "Python 3 (ipykernel)",
   "language": "python",
   "name": "python3"
  },
  "language_info": {
   "codemirror_mode": {
    "name": "ipython",
    "version": 3
   },
   "file_extension": ".py",
   "mimetype": "text/x-python",
   "name": "python",
   "nbconvert_exporter": "python",
   "pygments_lexer": "ipython3",
   "version": "3.9.13"
  }
 },
 "nbformat": 4,
 "nbformat_minor": 5
}
