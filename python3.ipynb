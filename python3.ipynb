{
 "cells": [
  {
   "cell_type": "code",
   "execution_count": 1,
   "id": "42fc3fba",
   "metadata": {},
   "outputs": [
    {
     "name": "stdout",
     "output_type": "stream",
     "text": [
      "Enter a number: 8\n",
      "8 x 1 = 8\n",
      "8 x 2 = 16\n",
      "8 x 3 = 24\n",
      "8 x 4 = 32\n",
      "8 x 5 = 40\n",
      "8 x 6 = 48\n",
      "8 x 7 = 56\n",
      "8 x 8 = 64\n",
      "8 x 9 = 72\n",
      "8 x 10 = 80\n"
     ]
    }
   ],
   "source": [
    "# Python program to print the multiplication table of n, where n is entered by the user\n",
    "\n",
    "number = int(input(\"Enter a number: \"))\n",
    "\n",
    "# Print the multiplication table\n",
    "for i in range(1, 11):\n",
    "    print(number, \"x\", i, \"=\", number*i)\n"
   ]
  },
  {
   "cell_type": "code",
   "execution_count": 4,
   "id": "01b0c45d",
   "metadata": {},
   "outputs": [
    {
     "name": "stdout",
     "output_type": "stream",
     "text": [
      "Enter the length of a side of the square: 4\n",
      "The area of the square is: 16.0\n",
      "Enter the length of the rectangle: 3\n",
      "Enter the width of the rectangle: 2\n",
      "The area of the rectangle is: 6.0\n"
     ]
    }
   ],
   "source": [
    "#Python Program to find area of square and rectangle\n",
    "\n",
    "# area of square\n",
    "side = float(input(\"Enter the length of a side of the square: \"))\n",
    "area_square = side ** 2\n",
    "print(\"The area of the square is:\", area_square)\n",
    "\n",
    "# area of rectangle\n",
    "length = float(input(\"Enter the length of the rectangle: \"))\n",
    "width = float(input(\"Enter the width of the rectangle: \"))\n",
    "area_rectangle = length * width\n",
    "print(\"The area of the rectangle is:\",area_rectangle)"
   ]
  },
  {
   "cell_type": "code",
   "execution_count": 6,
   "id": "fc3cf2dd",
   "metadata": {},
   "outputs": [
    {
     "name": "stdout",
     "output_type": "stream",
     "text": [
      "Enter the first string: Taco\n",
      "Enter the second string:  Bell\n",
      "The concatenated string is: Taco Bell\n"
     ]
    }
   ],
   "source": [
    "#Python program to perform string concatenation\n",
    "\n",
    "# string concatenation\n",
    "str1 = input(\"Enter the first string: \")\n",
    "str2 = input(\"Enter the second string: \")\n",
    "concatenated_str = str1 + str2\n",
    "print(\"The concatenated string is:\",concatenated_str)"
   ]
  },
  {
   "cell_type": "code",
   "execution_count": 7,
   "id": "9838c14d",
   "metadata": {},
   "outputs": [
    {
     "name": "stdout",
     "output_type": "stream",
     "text": [
      "Enter a character in upper case: PYHTON\n",
      "The character in lower case is pyhton\n"
     ]
    }
   ],
   "source": [
    "#Python program to read c character in upper case and print it in lower case\n",
    "\n",
    "# read a single character in upper case\n",
    "c = input(\"Enter a character in upper case: \")\n",
    "\n",
    "# convert the character to lower case using the lower() function\n",
    "c_lower = c.lower()\n",
    "\n",
    "# print the character in lower case\n",
    "print(f\"The character in lower case is {c_lower}\")"
   ]
  },
  {
   "cell_type": "code",
   "execution_count": 8,
   "id": "c2bb8bb5",
   "metadata": {},
   "outputs": [
    {
     "name": "stdout",
     "output_type": "stream",
     "text": [
      "Enter amount: 10000\n",
      "Enter time: 5\n",
      "Enter rate of interest: 13\n",
      "Simple interest is: 6500.000000\n",
      "Compound interest is: 8424.351793\n"
     ]
    }
   ],
   "source": [
    "#program to calculate the simple interest and compound interest\n",
    "\n",
    "principal = float(input('Enter amount: '))\n",
    "time = float(input('Enter time: '))\n",
    "rate = float(input('Enter rate of interest: '))\n",
    "\n",
    "# Calcualtion\n",
    "simple_interest = (principal*time*rate)/100\n",
    "compound_interest = principal * ( (1+rate/100)**time - 1)\n",
    "\n",
    "# Displaying result\n",
    "print('Simple interest is: %f' % (simple_interest))\n",
    "print('Compound interest is: %f' %(compound_interest))"
   ]
  },
  {
   "cell_type": "code",
   "execution_count": 21,
   "id": "f81e1d43",
   "metadata": {},
   "outputs": [
    {
     "name": "stdout",
     "output_type": "stream",
     "text": [
      "Enter a character or number: PYTHON\n",
      "Input is a character.\n",
      "Input is an uppercase character.\n"
     ]
    }
   ],
   "source": [
    "# program to take input from the user and then check whether it is a number or character,\n",
    "#determine whether it is in uppercase or lowercase\n",
    "\n",
    "# Take input from user\n",
    "input_str = input(\"Enter a character or number: \")\n",
    "\n",
    "# Check if input is a number\n",
    "if input_str.isdigit():\n",
    "    print(\"Input is a number.\")\n",
    "    \n",
    "# Check if input is a character\n",
    "elif input_str.isalpha():\n",
    "    print(\"Input is a character.\")\n",
    "    \n",
    "    # Check if character is uppercase\n",
    "    if input_str.isupper():\n",
    "        print(\"Input is an uppercase character.\")\n",
    "    \n",
    "    # Check if character is lowercase\n",
    "    elif input_str.islower():\n",
    "        print(\"Input is a lowercase character.\")\n",
    "    \n",
    "# If input is neither a number nor a character\n",
    "else:\n",
    "    print(\"Input is neither a number nor a character.\")"
   ]
  },
  {
   "cell_type": "code",
   "execution_count": 1,
   "id": "390fc1d1",
   "metadata": {},
   "outputs": [
    {
     "name": "stdout",
     "output_type": "stream",
     "text": [
      "Enter a number: 56768\n",
      "Reversed number: 86765\n"
     ]
    }
   ],
   "source": [
    "#program to display reverse a number\n",
    "\n",
    "# Take input from user\n",
    "number = int(input(\"Enter a number: \"))\n",
    "\n",
    "# Initialize variables\n",
    "reversed_number = 0\n",
    "remainder = 0\n",
    "\n",
    "# Reverse the number\n",
    "while number != 0:\n",
    "    remainder = number % 10\n",
    "    reversed_number = reversed_number * 10 + remainder\n",
    "    number //= 10\n",
    "\n",
    "# Print the reversed number\n",
    "print(\"Reversed number:\",reversed_number)"
   ]
  },
  {
   "cell_type": "code",
   "execution_count": 20,
   "id": "f38c7679",
   "metadata": {},
   "outputs": [
    {
     "name": "stdout",
     "output_type": "stream",
     "text": [
      "Enter name of employee:Anjali\n",
      "Enter Basic Salary :90000\n",
      "==============================================\n",
      " NAME OF EMPLOYEE :  Anjali\n",
      " BASIC SALARY :  90000.0\n",
      " HOUSE RENT ALLOW.:  9000.0\n",
      " TRAVEL ALLOW. :  4500.0\n",
      "==============================================\n",
      " TOATAL SALARY PAY :  103500.0\n",
      "==============================================\n"
     ]
    }
   ],
   "source": [
    "#program to calculate salary of an employee given is basic pay(to be entered by user),HRA=10%,TA=5%\n",
    "\n",
    "name= str(input(\"Enter name of employee:\"))\n",
    "basic=float(input(\"Enter Basic Salary :\"))\n",
    "#calculate hra\n",
    "hra=float(basic*0.10)\n",
    "#calculate ta\n",
    "ta=float(basic*0.05)\n",
    "#calculate total salary\n",
    "total_salary=float(basic+hra+ta)\n",
    "\n",
    "print(\"==============================================\")\n",
    "print(\" NAME OF EMPLOYEE : \",name)\n",
    "print(\" BASIC SALARY : \",basic)\n",
    "print(\" HOUSE RENT ALLOW.: \",hra)\n",
    "print(\" TRAVEL ALLOW. : \",ta)\n",
    "print(\"==============================================\")\n",
    "print(\" TOATAL SALARY PAY : \",total_salary)\n",
    "print(\"==============================================\")"
   ]
  },
  {
   "cell_type": "code",
   "execution_count": 3,
   "id": "ec76a44a",
   "metadata": {},
   "outputs": [
    {
     "name": "stdout",
     "output_type": "stream",
     "text": [
      "the sum of the list\n",
      "208\n"
     ]
    }
   ],
   "source": [
    "from functools import reduce\n",
    "def addnumber(x,y):\n",
    "    return x+y\n",
    "inputlist=[12,4,10,15,6,5,45,12,65,34]\n",
    "print(\"the sum of the list\")\n",
    "print(reduce(addnumber,inputlist))"
   ]
  },
  {
   "cell_type": "code",
   "execution_count": 2,
   "id": "2a94bb25",
   "metadata": {},
   "outputs": [
    {
     "name": "stdout",
     "output_type": "stream",
     "text": [
      "<filter object at 0x00000202875AAD00>\n",
      "eligiblity age for voting [42, 32, 75, 86, 18, 23, 45]\n"
     ]
    }
   ],
   "source": [
    "#filter\n",
    "def voterage(age):\n",
    "    if age>=18:\n",
    "        return age\n",
    "inputlist=[3,42,32,16,14,75,86,17.5,18,23,45]\n",
    "result=filter(voterage,inputlist)\n",
    "print(result)\n",
    "print(\"eligiblity age for voting\",list(result))"
   ]
  },
  {
   "cell_type": "code",
   "execution_count": null,
   "id": "f26fb4ce",
   "metadata": {},
   "outputs": [],
   "source": []
  }
 ],
 "metadata": {
  "kernelspec": {
   "display_name": "Python 3 (ipykernel)",
   "language": "python",
   "name": "python3"
  },
  "language_info": {
   "codemirror_mode": {
    "name": "ipython",
    "version": 3
   },
   "file_extension": ".py",
   "mimetype": "text/x-python",
   "name": "python",
   "nbconvert_exporter": "python",
   "pygments_lexer": "ipython3",
   "version": "3.9.13"
  }
 },
 "nbformat": 4,
 "nbformat_minor": 5
}
