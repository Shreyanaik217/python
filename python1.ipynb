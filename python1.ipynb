{
 "cells": [
  {
   "cell_type": "code",
   "execution_count": null,
   "id": "490ad075",
   "metadata": {},
   "outputs": [],
   "source": [
    "def my_mean(speed):\n",
    "    return sum(speed)/len(speed)\n",
    "my_mean([99,86,87,88,111,86,103,87,94,78,77,85,86])"
   ]
  },
  {
   "cell_type": "code",
   "execution_count": null,
   "id": "ff99203b",
   "metadata": {},
   "outputs": [],
   "source": [
    "def my_median(speed):\n",
    "    n=len(speed)\n",
    "    index=n||2\n",
    "    if n%2:\n",
    "        return sorted(speed)[index]\n",
    "    return sum(sorted(speed)[index-1:index+1])/2\n",
    "my_median([99,86,87,88,111,86,103,87,96,78,77,85,86])"
   ]
  },
  {
   "cell_type": "code",
   "execution_count": null,
   "id": "0424d329",
   "metadata": {},
   "outputs": [],
   "source": [
    "from collections import Counter\n",
    "def my_mode(spped):\n",
    "    c=counter(speed)\n",
    "    return[k for k,v in c items()\n",
    "          if v==c.most_comman(1)[0][1]]\n",
    "my_mode([99,86,87,111,86,103,87,94,78,77,85,86])"
   ]
  },
  {
   "cell_type": "code",
   "execution_count": null,
   "id": "62d23453",
   "metadata": {},
   "outputs": [],
   "source": []
  },
  {
   "cell_type": "code",
   "execution_count": 8,
   "id": "15ca398b",
   "metadata": {},
   "outputs": [
    {
     "name": "stdout",
     "output_type": "stream",
     "text": [
      "[]\n"
     ]
    }
   ],
   "source": [
    "def duplicate_list(input_list):\n",
    "    new_dict,new_list={},[]\n",
    "    for i in input_list:\n",
    "        if not i in new_dict:\n",
    "            new_dict[i]=1\n",
    "        else:\n",
    "            new_dict[i]+=1\n",
    "    for key,values in new_dict.items():\n",
    "        if values>1:\n",
    "            new_list.append(key)\n",
    "        return new_list\n",
    "if __name__=='__main__':\n",
    "    input_list=[99,86,87,88,111,86,103,87,94,78,77,85,86,88,103,88,111,78]\n",
    "    print(duplicate_list(input_list))"
   ]
  },
  {
   "cell_type": "code",
   "execution_count": null,
   "id": "8a7390d2",
   "metadata": {},
   "outputs": [],
   "source": []
  },
  {
   "cell_type": "code",
   "execution_count": null,
   "id": "bf5bd542",
   "metadata": {},
   "outputs": [],
   "source": []
  }
 ],
 "metadata": {
  "kernelspec": {
   "display_name": "Python 3 (ipykernel)",
   "language": "python",
   "name": "python3"
  },
  "language_info": {
   "codemirror_mode": {
    "name": "ipython",
    "version": 3
   },
   "file_extension": ".py",
   "mimetype": "text/x-python",
   "name": "python",
   "nbconvert_exporter": "python",
   "pygments_lexer": "ipython3",
   "version": "3.9.13"
  }
 },
 "nbformat": 4,
 "nbformat_minor": 5
}
