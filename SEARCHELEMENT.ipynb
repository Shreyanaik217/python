{
 "cells": [
  {
   "cell_type": "code",
   "execution_count": 1,
   "id": "378c2f77",
   "metadata": {},
   "outputs": [
    {
     "name": "stdout",
     "output_type": "stream",
     "text": [
      "enter the size of the list:8\n",
      "entr the element:45\n",
      "entr the element:74\n",
      "entr the element:61\n",
      "entr the element:34\n",
      "entr the element:51\n",
      "entr the element:54\n",
      "entr the element:62\n",
      "entr the element:12\n",
      "the elementes are: [45, 74, 61, 34, 51, 54, 62, 12]\n",
      "enter the search element:61\n",
      "the element found 2\n"
     ]
    }
   ],
   "source": [
    "list2=[]\n",
    "flag=0\n",
    "n=int(input(\"enter the size of the list:\"))\n",
    "for i in range(1,n+1):\n",
    "    ele=int(input(\"entr the element:\"))\n",
    "    list2.append(ele)\n",
    "print(\"the elementes are:\",list2)\n",
    "a=int(input(\"enter the search element:\"))\n",
    "for i in range(n):\n",
    "    if(a==list2[i]):\n",
    "        flag=1\n",
    "        break\n",
    "if(flag==1):\n",
    "    print(\"the element found\",format(i))\n",
    "else:\n",
    "    print(\"the element not found\")"
   ]
  },
  {
   "cell_type": "code",
   "execution_count": 2,
   "id": "651b2899",
   "metadata": {},
   "outputs": [
    {
     "name": "stdout",
     "output_type": "stream",
     "text": [
      "enter the size of the list:5\n",
      "entr the element:8\n",
      "entr the element:7\n",
      "entr the element:9\n",
      "entr the element:3\n",
      "entr the element:6\n",
      "the elementes are: [8, 7, 9, 3, 6]\n",
      "enter the search element:1\n",
      "the element not found\n"
     ]
    }
   ],
   "source": [
    "list2=[]\n",
    "flag=0\n",
    "n=int(input(\"enter the size of the list:\"))\n",
    "for i in range(1,n+1):\n",
    "    ele=int(input(\"entr the element:\"))\n",
    "    list2.append(ele)\n",
    "print(\"the elementes are:\",list2)\n",
    "a=int(input(\"enter the search element:\"))\n",
    "for i in range(n):\n",
    "    if(a==list2[i]):\n",
    "        flag=1\n",
    "        break\n",
    "if(flag==1):\n",
    "    print(\"the element found\",format(i))\n",
    "else:\n",
    "    print(\"the element not found\")"
   ]
  },
  {
   "cell_type": "code",
   "execution_count": null,
   "id": "02b5e5bb",
   "metadata": {},
   "outputs": [],
   "source": []
  }
 ],
 "metadata": {
  "kernelspec": {
   "display_name": "Python 3 (ipykernel)",
   "language": "python",
   "name": "python3"
  },
  "language_info": {
   "codemirror_mode": {
    "name": "ipython",
    "version": 3
   },
   "file_extension": ".py",
   "mimetype": "text/x-python",
   "name": "python",
   "nbconvert_exporter": "python",
   "pygments_lexer": "ipython3",
   "version": "3.9.13"
  }
 },
 "nbformat": 4,
 "nbformat_minor": 5
}
