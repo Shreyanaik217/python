{
 "cells": [
  {
   "cell_type": "code",
   "execution_count": 1,
   "id": "01717c46",
   "metadata": {},
   "outputs": [
    {
     "name": "stdout",
     "output_type": "stream",
     "text": [
      "union of the set is: {1, 2, 3, 4, 5, 6, 7, 8, 9}\n",
      "union pof the set is {1, 2, 3, 4, 5, 6, 7, 8, 9}\n",
      "intersection of the set is: {1, 2, 4}\n",
      "intersection pof the set is {1, 2, 4}\n",
      "difference of the set is: {8, 3, 5, 7}\n",
      "difference pof the set is {8, 3, 5, 7}\n",
      "symmetric difference of the set is: {3, 5, 6, 7, 8, 9}\n",
      "symetric difference pof the set is {3, 5, 6, 7, 8, 9}\n"
     ]
    }
   ],
   "source": [
    "a={1,3,5,2,7,4,8,3}\n",
    "b={4,6,2,9,1,4,2,6}\n",
    "print(\"union of the set is:\",a|b)\n",
    "print(\"union pof the set is\",a.union(b))\n",
    "print(\"intersection of the set is:\",a&b)\n",
    "print(\"intersection pof the set is\",a.intersection(b))\n",
    "print(\"difference of the set is:\",a-b)\n",
    "print(\"difference pof the set is\",a.difference(b))\n",
    "print(\"symmetric difference of the set is:\",a^b)\n",
    "print(\"symetric difference pof the set is\",a.symmetric_difference(b))\n"
   ]
  },
  {
   "cell_type": "code",
   "execution_count": null,
   "id": "934a5314",
   "metadata": {},
   "outputs": [],
   "source": []
  }
 ],
 "metadata": {
  "kernelspec": {
   "display_name": "Python 3 (ipykernel)",
   "language": "python",
   "name": "python3"
  },
  "language_info": {
   "codemirror_mode": {
    "name": "ipython",
    "version": 3
   },
   "file_extension": ".py",
   "mimetype": "text/x-python",
   "name": "python",
   "nbconvert_exporter": "python",
   "pygments_lexer": "ipython3",
   "version": "3.9.13"
  }
 },
 "nbformat": 4,
 "nbformat_minor": 5
}
